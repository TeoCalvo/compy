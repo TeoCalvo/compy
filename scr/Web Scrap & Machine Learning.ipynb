{
 "cells": [
  {
   "cell_type": "markdown",
   "metadata": {},
   "source": [
    "# Machine Learning para imóveis\n",
    "Vamos fazer um programa para auxiliar novos inscritos a definirem valor de seus imóveis antes de anunciarem. Bastará informar as características do imóvel que pretende ser vendido que o programa recomendará o valor."
   ]
  },
  {
   "cell_type": "markdown",
   "metadata": {},
   "source": [
    "### Importar bibliotecas necessárias"
   ]
  },
  {
   "cell_type": "code",
   "execution_count": null,
   "metadata": {
    "collapsed": true
   },
   "outputs": [],
   "source": [
    "import os\n",
    "import pandas as pd\n",
    "import numpy as np\n",
    "import collections as clt"
   ]
  },
  {
   "cell_type": "markdown",
   "metadata": {},
   "source": [
    "### Definindo caminhos e arquivos"
   ]
  },
  {
   "cell_type": "code",
   "execution_count": null,
   "metadata": {},
   "outputs": [],
   "source": [
    "git_path = \"/\".join( os.getcwd().split(\"/\")[:-1] )\n",
    "data_path = git_path + \"/data/\""
   ]
  },
  {
   "cell_type": "markdown",
   "metadata": {},
   "source": [
    "### Importação da base de dados"
   ]
  },
  {
   "cell_type": "code",
   "execution_count": null,
   "metadata": {},
   "outputs": [],
   "source": [
    "imovel_file = \"imovel_csv.csv\"\n",
    "imovel_df = pd.read_csv(data_path+imovel_file, sep=\";\")\n",
    "imovel_df.head(3)"
   ]
  },
  {
   "cell_type": "markdown",
   "metadata": {},
   "source": [
    "### Verificando dados faltantes"
   ]
  },
  {
   "cell_type": "code",
   "execution_count": null,
   "metadata": {},
   "outputs": [],
   "source": [
    "imovel_df.count()"
   ]
  },
  {
   "cell_type": "markdown",
   "metadata": {},
   "source": [
    "### Removendo linhas que não tem CEP"
   ]
  },
  {
   "cell_type": "code",
   "execution_count": null,
   "metadata": {},
   "outputs": [],
   "source": [
    "imovel_df = imovel_df[np.isfinite( imovel_df[\"cep\"]) ]\n",
    "imovel_df[\"cep\"] = imovel_df[\"cep\"].astype(int)\n",
    "imovel_df.head(3)"
   ]
  },
  {
   "cell_type": "markdown",
   "metadata": {},
   "source": [
    "### Importação da base de ceps"
   ]
  },
  {
   "cell_type": "code",
   "execution_count": null,
   "metadata": {},
   "outputs": [],
   "source": [
    "cep_file = \"cep_sp.csv\"\n",
    "cep_df = pd.read_csv(data_path+cep_file, sep=\",\")\n",
    "cep_df[\"cep\"] = cep_df[\"cep\"].astype(int)\n",
    "cep_df.head(3)"
   ]
  },
  {
   "cell_type": "code",
   "execution_count": null,
   "metadata": {},
   "outputs": [],
   "source": [
    "imovel_df = pd.merge(left=imovel_df, right=cep_df[[\"cep\", \"bairro\"]], how=\"left\", on=\"cep\", copy=False)"
   ]
  },
  {
   "cell_type": "code",
   "execution_count": null,
   "metadata": {},
   "outputs": [],
   "source": [
    "carac_list = []\n",
    "for i in imovel_df[\"caracteristicas\"]:\n",
    "    if type(i) == str:\n",
    "        carac_list += i.lower().replace(\" \", \"\").split(\",\")"
   ]
  },
  {
   "cell_type": "code",
   "execution_count": null,
   "metadata": {},
   "outputs": [],
   "source": [
    "pd.Series( clt.Counter( carac_list ) ).sort_values()"
   ]
  }
 ],
 "metadata": {
  "kernelspec": {
   "display_name": "Python [conda env:dota-env]",
   "language": "python",
   "name": "conda-env-dota-env-py"
  },
  "language_info": {
   "codemirror_mode": {
    "name": "ipython",
    "version": 3
   },
   "file_extension": ".py",
   "mimetype": "text/x-python",
   "name": "python",
   "nbconvert_exporter": "python",
   "pygments_lexer": "ipython3",
   "version": "3.6.2"
  }
 },
 "nbformat": 4,
 "nbformat_minor": 2
}
