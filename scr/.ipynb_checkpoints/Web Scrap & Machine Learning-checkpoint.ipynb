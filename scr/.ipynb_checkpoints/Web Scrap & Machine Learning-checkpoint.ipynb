{
 "cells": [
  {
   "cell_type": "markdown",
   "metadata": {},
   "source": [
    "# Machine Learning para imóveis\n",
    "Vamos fazer um programa para auxiliar novos inscritos a definirem valor de seus imóveis antes de anunciarem. Bastará informar as características do imóvel que pretende ser vendido que o programa recomendará o valor."
   ]
  },
  {
   "cell_type": "markdown",
   "metadata": {},
   "source": [
    "### Importar bibliotecas necessárias"
   ]
  },
  {
   "cell_type": "code",
   "execution_count": null,
   "metadata": {
    "collapsed": true
   },
   "outputs": [],
   "source": [
    "import os\n",
    "import pandas as pd\n",
    "import numpy as np\n",
    "import collections as clt"
   ]
  },
  {
   "cell_type": "markdown",
   "metadata": {},
   "source": [
    "### Definindo caminhos e arquivos"
   ]
  },
  {
   "cell_type": "code",
   "execution_count": null,
   "metadata": {
    "collapsed": true
   },
   "outputs": [],
   "source": [
    "git_path = \"/\".join( os.getcwd().split(\"/\")[:-1] )\n",
    "data_path = git_path + \"/data/\""
   ]
  },
  {
   "cell_type": "markdown",
   "metadata": {},
   "source": [
    "### Importação da base de dados"
   ]
  },
  {
   "cell_type": "code",
   "execution_count": null,
   "metadata": {},
   "outputs": [],
   "source": [
    "imovel_file = \"imovel_csv.csv\"\n",
    "imovel_df = pd.read_csv(data_path+imovel_file, sep=\";\")\n",
    "imovel_df.head(3)"
   ]
  },
  {
   "cell_type": "markdown",
   "metadata": {},
   "source": [
    "### Verificando dados faltantes"
   ]
  },
  {
   "cell_type": "code",
   "execution_count": null,
   "metadata": {},
   "outputs": [],
   "source": [
    "imovel_df.count()"
   ]
  },
  {
   "cell_type": "markdown",
   "metadata": {},
   "source": [
    "### Removendo linhas que não tem CEP"
   ]
  },
  {
   "cell_type": "code",
   "execution_count": null,
   "metadata": {},
   "outputs": [],
   "source": [
    "imovel_df = imovel_df[np.isfinite( imovel_df[\"cep\"]) ]\n",
    "imovel_df[\"cep\"] = imovel_df[\"cep\"].astype(int)\n",
    "imovel_df.head(3)"
   ]
  },
  {
   "cell_type": "markdown",
   "metadata": {},
   "source": [
    "### Importação da base de ceps"
   ]
  },
  {
   "cell_type": "code",
   "execution_count": null,
   "metadata": {},
   "outputs": [],
   "source": [
    "cep_file = \"cep_sp.csv\"\n",
    "cep_df = pd.read_csv(data_path+cep_file, sep=\",\")\n",
    "cep_df[\"cep\"] = cep_df[\"cep\"].astype(int)\n",
    "cep_df.head(3)"
   ]
  },
  {
   "cell_type": "markdown",
   "metadata": {},
   "source": [
    "### Join entre as bases"
   ]
  },
  {
   "cell_type": "code",
   "execution_count": null,
   "metadata": {
    "collapsed": true
   },
   "outputs": [],
   "source": [
    "imovel_df = pd.merge(left=imovel_df, right=cep_df[[\"cep\", \"bairro\"]], how=\"left\", on=\"cep\", copy=False)"
   ]
  },
  {
   "cell_type": "markdown",
   "metadata": {},
   "source": [
    "### Tratamento das características"
   ]
  },
  {
   "cell_type": "code",
   "execution_count": null,
   "metadata": {
    "collapsed": true
   },
   "outputs": [],
   "source": [
    "carac_list = []\n",
    "for i in imovel_df[\"caracteristicas\"]:\n",
    "    if type(i) == str:\n",
    "        carac_list += i.lower().replace(\" \", \"\").split(\",\")"
   ]
  },
  {
   "cell_type": "code",
   "execution_count": null,
   "metadata": {},
   "outputs": [],
   "source": [
    "carac_serie = pd.Series( clt.Counter( carac_list ) ).sort_values()\n",
    "carac_serie / imovel_df.shape[0]\n",
    "carac_serie = carac_serie[carac_serie>100  ]"
   ]
  },
  {
   "cell_type": "code",
   "execution_count": null,
   "metadata": {},
   "outputs": [],
   "source": [
    "def carac_column( x, carac_str ):\n",
    "    try:\n",
    "        if carac_str in x:\n",
    "            return 1\n",
    "        else:\n",
    "            return 0\n",
    "    except TypeError as err:\n",
    "        return 0\n",
    "\n",
    "    \n",
    "imovel_df[\"new_caracteristicas\"] = imovel_df[\"caracteristicas\"].apply(lambda x: x.lower().replace(\" \", \"\") if type(x)==str else np.nan)\n",
    "\n",
    "for i in carac_serie.index:\n",
    "    imovel_df[i] = imovel_df[\"new_caracteristicas\"].apply( func=carac_column, args=[i] )    \n",
    "    "
   ]
  },
  {
   "cell_type": "code",
   "execution_count": null,
   "metadata": {},
   "outputs": [],
   "source": [
    "imovel_df.head(3)"
   ]
  },
  {
   "cell_type": "markdown",
   "metadata": {},
   "source": [
    "### Definição da tabela de modelagem"
   ]
  },
  {
   "cell_type": "code",
   "execution_count": null,
   "metadata": {},
   "outputs": [],
   "source": [
    "colunas_tt = list( imovel_df.columns )"
   ]
  },
  {
   "cell_type": "code",
   "execution_count": null,
   "metadata": {},
   "outputs": [],
   "source": [
    "colunas_modelo = ['cep','latitude', 'longitude',\n",
    "                  'qtde_banheiros', 'qtde_quartos', 'qtde_vagas']\n",
    "\n",
    "colunas_modelo += colunas_tt[ colunas_tt.index(\"new_caracteristicas\")+1:]\n",
    "colunas_modelo += [\"valor_venda\"]"
   ]
  },
  {
   "cell_type": "code",
   "execution_count": null,
   "metadata": {},
   "outputs": [],
   "source": [
    "tb_model = imovel_df[colunas_modelo].copy()\n",
    "tb_model.head()"
   ]
  }
 ],
 "metadata": {
  "kernelspec": {
   "display_name": "Python [conda env:dota-env]",
   "language": "python",
   "name": "conda-env-dota-env-py"
  },
  "language_info": {
   "codemirror_mode": {
    "name": "ipython",
    "version": 3
   },
   "file_extension": ".py",
   "mimetype": "text/x-python",
   "name": "python",
   "nbconvert_exporter": "python",
   "pygments_lexer": "ipython3",
   "version": "3.6.2"
  }
 },
 "nbformat": 4,
 "nbformat_minor": 2
}
