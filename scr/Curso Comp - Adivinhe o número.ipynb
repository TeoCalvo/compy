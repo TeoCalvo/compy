{
 "cells": [
  {
   "cell_type": "markdown",
   "metadata": {},
   "source": [
    "# Exercício\n",
    "\n",
    "Para exercitar as lições aprendidas no Notebook anterior, vamos contruir um jogo de adivinhação.\n",
    "Começaremos do básico e avançaremos de forma progressiva na utiliação das funções."
   ]
  },
  {
   "cell_type": "markdown",
   "metadata": {},
   "source": [
    "## O jogo\n",
    "\n",
    "A ideia e criar um jogo que a pessoa deva inserir um número entre 0 e 10 para tentar adivinhar qual é o número secreto."
   ]
  },
  {
   "cell_type": "markdown",
   "metadata": {},
   "source": [
    "### Primeira versão"
   ]
  },
  {
   "cell_type": "code",
   "execution_count": null,
   "metadata": {
    "collapsed": true
   },
   "outputs": [],
   "source": [
    "escolha = 0\n",
    "\n",
    "if escolha == 6:\n",
    "    print(\"Voce acertou! Parabens!\")\n",
    "else:\n",
    "    print(\"Você errou!\")\n"
   ]
  },
  {
   "cell_type": "markdown",
   "metadata": {},
   "source": [
    "### Da para melhorar né!? 1.1"
   ]
  },
  {
   "cell_type": "code",
   "execution_count": null,
   "metadata": {
    "collapsed": true
   },
   "outputs": [],
   "source": [
    "escolha = 0\n",
    "\n",
    "if escolha == 6:\n",
    "    print(\"Voce acertou! Parabens!\")\n",
    "elif escolha > 6:\n",
    "    print(\"Você errou! Tente um valor menor.\")\n",
    "else:\n",
    "    print(\"Você errou! Tente um valor maior.\")"
   ]
  },
  {
   "cell_type": "markdown",
   "metadata": {},
   "source": [
    "### Entrada de dados? Melhor que hardcode!"
   ]
  },
  {
   "cell_type": "code",
   "execution_count": null,
   "metadata": {
    "collapsed": true
   },
   "outputs": [],
   "source": [
    "escolha = input(\"Tente acertar o número: \")\n",
    "\n",
    "if escolha == 6:\n",
    "    print(\"Voce acertou! Parabens!\")\n",
    "elif escolha > 6:\n",
    "    print(\"Você errou! Tente um valor menor.\")\n",
    "else:\n",
    "    print(\"Você errou! Tente um valor maior.\")"
   ]
  },
  {
   "cell_type": "markdown",
   "metadata": {},
   "source": [
    "### Criamos uma função?"
   ]
  },
  {
   "cell_type": "code",
   "execution_count": null,
   "metadata": {
    "collapsed": true
   },
   "outputs": [],
   "source": [
    "def escolha_numero():\n",
    "\n",
    "    escolha = input(\"Tente acertar o número: \")\n",
    "\n",
    "    if escolha == 6:\n",
    "        print(\"Voce acertou! Parabens!\")\n",
    "    elif escolha > 6:\n",
    "        print(\"Você errou! Tente um valor menor.\")\n",
    "    else:\n",
    "        print(\"Você errou! Tente um valor maior.\")\n"
   ]
  },
  {
   "cell_type": "code",
   "execution_count": null,
   "metadata": {
    "collapsed": true
   },
   "outputs": [],
   "source": [
    "escolha_numero()"
   ]
  },
  {
   "cell_type": "markdown",
   "metadata": {},
   "source": [
    "### Quantas tentativas?"
   ]
  },
  {
   "cell_type": "code",
   "execution_count": null,
   "metadata": {
    "collapsed": true
   },
   "outputs": [],
   "source": [
    "def escolha_numero():\n",
    "    i=1\n",
    "    while i<=3:\n",
    "        escolha = input(\"Tente acertar o número: \")\n",
    "\n",
    "        if escolha == 6:\n",
    "            print(\"Voce acertou! Parabens!\")\n",
    "        elif escolha > 6:\n",
    "            print(\"Você errou! Tente um valor menor.\")\n",
    "        else:\n",
    "            print(\"Você errou! Tente um valor maior.\")\n",
    "    i+=1"
   ]
  },
  {
   "cell_type": "code",
   "execution_count": null,
   "metadata": {
    "collapsed": true
   },
   "outputs": [],
   "source": []
  }
 ],
 "metadata": {
  "kernelspec": {
   "display_name": "Python 3",
   "language": "python",
   "name": "python3"
  },
  "language_info": {
   "codemirror_mode": {
    "name": "ipython",
    "version": 3
   },
   "file_extension": ".py",
   "mimetype": "text/x-python",
   "name": "python",
   "nbconvert_exporter": "python",
   "pygments_lexer": "ipython3",
   "version": "3.6.1"
  }
 },
 "nbformat": 4,
 "nbformat_minor": 2
}
