{
 "cells": [
  {
   "cell_type": "markdown",
   "metadata": {},
   "source": [
    "# Exercício\n",
    "\n",
    "Para exercitar as lições aprendidas no Notebook anterior, vamos contruir um jogo de adivinhação.\n",
    "Começaremos do básico e avançaremos de forma progressiva na utiliação das funções."
   ]
  },
  {
   "cell_type": "markdown",
   "metadata": {},
   "source": [
    "## O jogo\n",
    "\n",
    "A ideia e criar um jogo que a pessoa deva inserir um número entre 0 e 10 para tentar adivinhar qual é o número secreto."
   ]
  },
  {
   "cell_type": "markdown",
   "metadata": {},
   "source": [
    "### Primeira versão"
   ]
  },
  {
   "cell_type": "code",
   "execution_count": 6,
   "metadata": {},
   "outputs": [
    {
     "name": "stdout",
     "output_type": "stream",
     "text": [
      "Você errou!\n"
     ]
    }
   ],
   "source": [
    "escolha = 0\n",
    "\n",
    "if escolha == 6:\n",
    "    print(\"Voce acertou! Parabens!\")\n",
    "else:\n",
    "    print(\"Você errou!\")\n"
   ]
  },
  {
   "cell_type": "code",
   "execution_count": null,
   "metadata": {
    "collapsed": true
   },
   "outputs": [],
   "source": []
  }
 ],
 "metadata": {
  "kernelspec": {
   "display_name": "Python [conda env:dota-env]",
   "language": "python",
   "name": "conda-env-dota-env-py"
  },
  "language_info": {
   "codemirror_mode": {
    "name": "ipython",
    "version": 3
   },
   "file_extension": ".py",
   "mimetype": "text/x-python",
   "name": "python",
   "nbconvert_exporter": "python",
   "pygments_lexer": "ipython3",
   "version": "3.6.2"
  }
 },
 "nbformat": 4,
 "nbformat_minor": 2
}
